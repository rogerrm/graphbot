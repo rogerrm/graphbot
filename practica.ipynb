{
 "cells": [
  {
   "cell_type": "markdown",
   "metadata": {},
   "source": [
    "# Pràctica LP"
   ]
  },
  {
   "cell_type": "markdown",
   "metadata": {},
   "source": [
    "## Baixar i tractar les dades"
   ]
  },
  {
   "cell_type": "code",
   "execution_count": 1,
   "metadata": {},
   "outputs": [],
   "source": [
    "import pandas as pd"
   ]
  },
  {
   "cell_type": "code",
   "execution_count": 2,
   "metadata": {},
   "outputs": [],
   "source": [
    "import networkx as nx"
   ]
  },
  {
   "cell_type": "code",
   "execution_count": 3,
   "metadata": {},
   "outputs": [],
   "source": [
    "from haversine import haversine"
   ]
  },
  {
   "cell_type": "code",
   "execution_count": 226,
   "metadata": {},
   "outputs": [],
   "source": [
    "from staticmap import StaticMap, Line, CircleMarker"
   ]
  },
  {
   "cell_type": "code",
   "execution_count": 41,
   "metadata": {},
   "outputs": [
    {
     "name": "stderr",
     "output_type": "stream",
     "text": [
      "/Users/roger.romero/Desktop/Uni/FIB/LP/PracticaPython/practica/lib/python3.7/site-packages/fuzzywuzzy/fuzz.py:11: UserWarning: Using slow pure-python SequenceMatcher. Install python-Levenshtein to remove this warning\n",
      "  warnings.warn('Using slow pure-python SequenceMatcher. Install python-Levenshtein to remove this warning')\n"
     ]
    }
   ],
   "source": [
    "from fuzzywuzzy import fuzz"
   ]
  },
  {
   "cell_type": "code",
   "execution_count": 279,
   "metadata": {},
   "outputs": [],
   "source": [
    "import telegram\n",
    "from telegram.ext import Updater\n",
    "from telegram.ext import CommandHandler"
   ]
  },
  {
   "cell_type": "code",
   "execution_count": 6,
   "metadata": {},
   "outputs": [],
   "source": [
    "URL = 'https://github.com/jordi-petit/lp-graphbot-2019/blob/master/dades/worldcitiespop.csv.gz?raw=true'"
   ]
  },
  {
   "cell_type": "code",
   "execution_count": 7,
   "metadata": {},
   "outputs": [],
   "source": [
    "COLUMNS = {\n",
    "    'Country': 0,\n",
    "    'AccentCity': 1,\n",
    "    'Region': 2,\n",
    "    'Population': 3,\n",
    "    'Latitude': 4,\n",
    "    'Longitude': 5\n",
    "}"
   ]
  },
  {
   "cell_type": "code",
   "execution_count": 8,
   "metadata": {},
   "outputs": [],
   "source": [
    "MIN_POPULATION = 100000\n",
    "MAX_DISTANCE = 300\n",
    "CIRCLE_SCALE = 0.000005"
   ]
  },
  {
   "cell_type": "markdown",
   "metadata": {},
   "source": [
    "## Pandas"
   ]
  },
  {
   "cell_type": "code",
   "execution_count": 15,
   "metadata": {},
   "outputs": [],
   "source": [
    "import gzip"
   ]
  },
  {
   "cell_type": "code",
   "execution_count": 9,
   "metadata": {},
   "outputs": [
    {
     "name": "stderr",
     "output_type": "stream",
     "text": [
      "/Users/roger.romero/Desktop/Uni/FIB/LP/PracticaPython/practica/lib/python3.7/site-packages/IPython/core/interactiveshell.py:3049: DtypeWarning: Columns (3) have mixed types. Specify dtype option on import or set low_memory=False.\n",
      "  interactivity=interactivity, compiler=compiler, result=result)\n"
     ]
    }
   ],
   "source": [
    "import time\n",
    "start_time = time.time()\n",
    "dataframe = pd.read_csv('data/citydata.csv.gz', usecols=COLUMNS.keys(), compression='gzip')"
   ]
  },
  {
   "cell_type": "code",
   "execution_count": 44,
   "metadata": {},
   "outputs": [
    {
     "data": {
      "text/html": [
       "<div>\n",
       "<style scoped>\n",
       "    .dataframe tbody tr th:only-of-type {\n",
       "        vertical-align: middle;\n",
       "    }\n",
       "\n",
       "    .dataframe tbody tr th {\n",
       "        vertical-align: top;\n",
       "    }\n",
       "\n",
       "    .dataframe thead th {\n",
       "        text-align: right;\n",
       "    }\n",
       "</style>\n",
       "<table border=\"1\" class=\"dataframe\">\n",
       "  <thead>\n",
       "    <tr style=\"text-align: right;\">\n",
       "      <th></th>\n",
       "      <th>Country</th>\n",
       "      <th>AccentCity</th>\n",
       "      <th>Region</th>\n",
       "      <th>Population</th>\n",
       "      <th>Latitude</th>\n",
       "      <th>Longitude</th>\n",
       "    </tr>\n",
       "  </thead>\n",
       "  <tbody>\n",
       "    <tr>\n",
       "      <th>0</th>\n",
       "      <td>ad</td>\n",
       "      <td>Aixàs</td>\n",
       "      <td>6</td>\n",
       "      <td>NaN</td>\n",
       "      <td>42.483333</td>\n",
       "      <td>1.466667</td>\n",
       "    </tr>\n",
       "    <tr>\n",
       "      <th>1</th>\n",
       "      <td>ad</td>\n",
       "      <td>Aixirivali</td>\n",
       "      <td>6</td>\n",
       "      <td>NaN</td>\n",
       "      <td>42.466667</td>\n",
       "      <td>1.500000</td>\n",
       "    </tr>\n",
       "    <tr>\n",
       "      <th>2</th>\n",
       "      <td>ad</td>\n",
       "      <td>Aixirivall</td>\n",
       "      <td>6</td>\n",
       "      <td>NaN</td>\n",
       "      <td>42.466667</td>\n",
       "      <td>1.500000</td>\n",
       "    </tr>\n",
       "    <tr>\n",
       "      <th>3</th>\n",
       "      <td>ad</td>\n",
       "      <td>Aixirvall</td>\n",
       "      <td>6</td>\n",
       "      <td>NaN</td>\n",
       "      <td>42.466667</td>\n",
       "      <td>1.500000</td>\n",
       "    </tr>\n",
       "    <tr>\n",
       "      <th>4</th>\n",
       "      <td>ad</td>\n",
       "      <td>Aixovall</td>\n",
       "      <td>6</td>\n",
       "      <td>NaN</td>\n",
       "      <td>42.466667</td>\n",
       "      <td>1.483333</td>\n",
       "    </tr>\n",
       "  </tbody>\n",
       "</table>\n",
       "</div>"
      ],
      "text/plain": [
       "  Country  AccentCity Region  Population   Latitude  Longitude\n",
       "0      ad       Aixàs      6         NaN  42.483333   1.466667\n",
       "1      ad  Aixirivali      6         NaN  42.466667   1.500000\n",
       "2      ad  Aixirivall      6         NaN  42.466667   1.500000\n",
       "3      ad   Aixirvall      6         NaN  42.466667   1.500000\n",
       "4      ad    Aixovall      6         NaN  42.466667   1.483333"
      ]
     },
     "execution_count": 44,
     "metadata": {},
     "output_type": "execute_result"
    }
   ],
   "source": [
    "dataframe.head()"
   ]
  },
  {
   "cell_type": "code",
   "execution_count": 65,
   "metadata": {},
   "outputs": [
    {
     "data": {
      "text/html": [
       "<div>\n",
       "<style scoped>\n",
       "    .dataframe tbody tr th:only-of-type {\n",
       "        vertical-align: middle;\n",
       "    }\n",
       "\n",
       "    .dataframe tbody tr th {\n",
       "        vertical-align: top;\n",
       "    }\n",
       "\n",
       "    .dataframe thead th {\n",
       "        text-align: right;\n",
       "    }\n",
       "</style>\n",
       "<table border=\"1\" class=\"dataframe\">\n",
       "  <thead>\n",
       "    <tr style=\"text-align: right;\">\n",
       "      <th></th>\n",
       "      <th>Country</th>\n",
       "      <th>AccentCity</th>\n",
       "      <th>Region</th>\n",
       "      <th>Population</th>\n",
       "      <th>Latitude</th>\n",
       "      <th>Longitude</th>\n",
       "    </tr>\n",
       "  </thead>\n",
       "  <tbody>\n",
       "    <tr>\n",
       "      <th>873329</th>\n",
       "      <td>es</td>\n",
       "      <td>Madrid</td>\n",
       "      <td>29</td>\n",
       "      <td>3102644.0</td>\n",
       "      <td>40.408566</td>\n",
       "      <td>-3.69222</td>\n",
       "    </tr>\n",
       "  </tbody>\n",
       "</table>\n",
       "</div>"
      ],
      "text/plain": [
       "       Country AccentCity Region  Population   Latitude  Longitude\n",
       "873329      es     Madrid     29   3102644.0  40.408566   -3.69222"
      ]
     },
     "execution_count": 65,
     "metadata": {},
     "output_type": "execute_result"
    }
   ],
   "source": [
    "dataframe[dataframe['AccentCity']=='Madrid']"
   ]
  },
  {
   "cell_type": "code",
   "execution_count": 66,
   "metadata": {},
   "outputs": [
    {
     "data": {
      "text/plain": [
       "15.51322"
      ]
     },
     "execution_count": 66,
     "metadata": {},
     "output_type": "execute_result"
    }
   ],
   "source": [
    "0.000005*3102644"
   ]
  },
  {
   "cell_type": "code",
   "execution_count": 10,
   "metadata": {},
   "outputs": [],
   "source": [
    "dataframe = dataframe[dataframe['Population']>100000]"
   ]
  },
  {
   "cell_type": "code",
   "execution_count": 11,
   "metadata": {},
   "outputs": [
    {
     "data": {
      "text/plain": [
       "3527"
      ]
     },
     "execution_count": 11,
     "metadata": {},
     "output_type": "execute_result"
    }
   ],
   "source": [
    "len(dataframe)"
   ]
  },
  {
   "cell_type": "code",
   "execution_count": null,
   "metadata": {},
   "outputs": [],
   "source": [
    "dataframe"
   ]
  },
  {
   "cell_type": "code",
   "execution_count": 12,
   "metadata": {},
   "outputs": [
    {
     "name": "stdout",
     "output_type": "stream",
     "text": [
      "--- 0.6108977794647217 seconds ---\n"
     ]
    }
   ],
   "source": [
    "start_time = time.time()\n",
    "coordinates = dict()\n",
    "coordinate_to_city = dict()\n",
    "populations = dict()\n",
    "for row in dataframe.iterrows():\n",
    "    info = row[1]\n",
    "    city = info[COLUMNS['AccentCity']]\n",
    "    country = info[COLUMNS['Country']]\n",
    "    region = info[COLUMNS['Region']]\n",
    "    key = '{city}, {country}; {region}'.format(\n",
    "        city=city,\n",
    "        country=country,\n",
    "        region=region\n",
    "    )\n",
    "    coordinates[key] = (\n",
    "        info[COLUMNS['Latitude']],\n",
    "        info[COLUMNS['Longitude']]\n",
    "    )\n",
    "    coordinate_to_city[(info[COLUMNS['Latitude']],info[COLUMNS['Longitude']])] = key.split(';')[0]\n",
    "    populations[key] = info[COLUMNS['Population']]\n",
    "print(\"--- %s seconds ---\" % (time.time() - start_time))"
   ]
  },
  {
   "cell_type": "code",
   "execution_count": 10,
   "metadata": {},
   "outputs": [
    {
     "data": {
      "text/plain": [
       "3527"
      ]
     },
     "execution_count": 10,
     "metadata": {},
     "output_type": "execute_result"
    }
   ],
   "source": [
    "len(coordinates)"
   ]
  },
  {
   "cell_type": "markdown",
   "metadata": {},
   "source": [
    "## CSV "
   ]
  },
  {
   "cell_type": "code",
   "execution_count": 25,
   "metadata": {},
   "outputs": [],
   "source": [
    "import csv\n",
    "import gzip"
   ]
  },
  {
   "cell_type": "code",
   "execution_count": 53,
   "metadata": {},
   "outputs": [],
   "source": [
    "import requests"
   ]
  },
  {
   "cell_type": "code",
   "execution_count": 4,
   "metadata": {},
   "outputs": [],
   "source": [
    "r = requests.get(URL)"
   ]
  },
  {
   "cell_type": "code",
   "execution_count": 5,
   "metadata": {},
   "outputs": [
    {
     "data": {
      "text/plain": [
       "43873807"
      ]
     },
     "execution_count": 5,
     "metadata": {},
     "output_type": "execute_result"
    }
   ],
   "source": [
    "open('data/citydata.csv.gz', 'wb').write(r.content)"
   ]
  },
  {
   "cell_type": "code",
   "execution_count": 26,
   "metadata": {},
   "outputs": [],
   "source": [
    "def process_row(row):\n",
    "    '''\n",
    "    Processes a row in the csv\n",
    "    '''\n",
    "    country, _, city, region, pop, lat, lon = row\n",
    "    code = '{city}, {country}; {region}'.format(\n",
    "        city=city,\n",
    "        country=country,\n",
    "        region=region\n",
    "    )\n",
    "    if pop == '':\n",
    "        pop = 0\n",
    "    elif '.' in pop:\n",
    "        pop = pop.split('.')[0]\n",
    "    return code, (float(lat), float(lon)), int(pop)"
   ]
  },
  {
   "cell_type": "code",
   "execution_count": 55,
   "metadata": {},
   "outputs": [
    {
     "name": "stdout",
     "output_type": "stream",
     "text": [
      "--- 10.696715116500854 seconds ---\n"
     ]
    }
   ],
   "source": [
    "start_time = time.time()\n",
    "coordinates = dict()\n",
    "populations = dict()\n",
    "\n",
    "with gzip.open('data/citydata.csv.gz', 'rt') as csv_file:\n",
    "    csv_reader = csv.reader(csv_file, delimiter=',')\n",
    "    line_count = 0\n",
    "    for row in csv_reader:\n",
    "        if line_count != 0:\n",
    "            city, coords, pop = process_row(row)\n",
    "            if pop >= 100000:\n",
    "                coordinates[city] = coords\n",
    "                populations[city] = pop\n",
    "        line_count += 1\n",
    "print(\"--- %s seconds ---\" % (time.time() - start_time))"
   ]
  },
  {
   "cell_type": "code",
   "execution_count": 31,
   "metadata": {},
   "outputs": [
    {
     "ename": "KeyError",
     "evalue": "'Barcelona, es'",
     "output_type": "error",
     "traceback": [
      "\u001b[0;31m---------------------------------------------------------------------------\u001b[0m",
      "\u001b[0;31mKeyError\u001b[0m                                  Traceback (most recent call last)",
      "\u001b[0;32m<ipython-input-31-edc4b18e2580>\u001b[0m in \u001b[0;36m<module>\u001b[0;34m\u001b[0m\n\u001b[0;32m----> 1\u001b[0;31m \u001b[0mpopulations\u001b[0m\u001b[0;34m[\u001b[0m\u001b[0;34m'Barcelona, es'\u001b[0m\u001b[0;34m]\u001b[0m\u001b[0;34m\u001b[0m\u001b[0;34m\u001b[0m\u001b[0m\n\u001b[0m",
      "\u001b[0;31mKeyError\u001b[0m: 'Barcelona, es'"
     ]
    }
   ],
   "source": [
    "populations['Barcelona, es; ']"
   ]
  },
  {
   "cell_type": "code",
   "execution_count": 21,
   "metadata": {},
   "outputs": [],
   "source": [
    "with gzip.open('citydata.csv.gz', 'rt') as csv_file:\n",
    "    csv_reader = csv.reader(csv_file, delimiter=',')\n",
    "    line_count = 0\n",
    "    for row in csv_reader:\n",
    "        "
   ]
  },
  {
   "cell_type": "markdown",
   "metadata": {},
   "source": [
    "## Crear el graf"
   ]
  },
  {
   "cell_type": "code",
   "execution_count": 243,
   "metadata": {},
   "outputs": [],
   "source": [
    "G = nx.Graph()"
   ]
  },
  {
   "cell_type": "code",
   "execution_count": 244,
   "metadata": {},
   "outputs": [],
   "source": [
    "for city in coordinates.keys():\n",
    "    G.add_node(city)"
   ]
  },
  {
   "cell_type": "code",
   "execution_count": 228,
   "metadata": {},
   "outputs": [],
   "source": [
    "def get_distance(coordsa, coordsb):\n",
    "    return haversine(coordsa, coordsb)"
   ]
  },
  {
   "cell_type": "code",
   "execution_count": 179,
   "metadata": {},
   "outputs": [],
   "source": [
    "def get_city_distance(citya, cityb):\n",
    "    return get_distance(coordinates[citya], coordinates[cityb])"
   ]
  },
  {
   "cell_type": "code",
   "execution_count": 250,
   "metadata": {},
   "outputs": [],
   "source": [
    "for city_a in coordinates.keys():\n",
    "    for city_b in coordinates.keys():\n",
    "        distance = get_city_distance(city_a, city_b)\n",
    "        if city_a != city_b and distance <= MAX_DISTANCE:\n",
    "            G.add_edge(city_a, city_b, weight=distance)"
   ]
  },
  {
   "cell_type": "code",
   "execution_count": null,
   "metadata": {},
   "outputs": [],
   "source": [
    "for edge in G.edges:\n",
    "    print(edge)\n",
    "    break"
   ]
  },
  {
   "cell_type": "code",
   "execution_count": 229,
   "metadata": {},
   "outputs": [],
   "source": [
    "def is_plottable(edge, coords, dist):\n",
    "    dist0 = get_distance(coordinates[edge[0]], coords)\n",
    "    dist1 = get_distance(coordinates[edge[1]], coords)\n",
    "    return dist0 <= dist and dist1 <= dist\n",
    "\n",
    "def plotgraph(lat, long, dist):\n",
    "    mapa = StaticMap(400, 400)\n",
    "    for edge in G.edges:\n",
    "        if is_plottable(edge, (lat, long), dist):\n",
    "            # Staticmap needs coordinates in order (Longitude, Latitude)\n",
    "            rev_coords_0 = tuple(reversed(coordinates[edge[0]]))\n",
    "            rev_coords_1 = tuple(reversed(coordinates[edge[1]]))\n",
    "            mapa.add_line(Line((rev_coords_0, rev_coords_1), 'blue', 3))\n",
    "    image = mapa.render()\n",
    "    image.save('./map.png')"
   ]
  },
  {
   "cell_type": "code",
   "execution_count": 215,
   "metadata": {},
   "outputs": [],
   "source": [
    "plotgraph(coordinates['Barcelona, es; 56'][0], coordinates['Barcelona, es; 56'][1], 100)"
   ]
  },
  {
   "cell_type": "code",
   "execution_count": 230,
   "metadata": {},
   "outputs": [],
   "source": [
    "def plotpop(lat, long, dist):\n",
    "    mapa = StaticMap(400, 400)\n",
    "    for node in G.nodes:\n",
    "        if is_plottable((node, node), (lat, long), dist):\n",
    "            rev_coords = tuple(reversed(coordinates[node]))\n",
    "            circle = CircleMarker(rev_coords, 'red', populations[node]*CIRCLE_SCALE)\n",
    "            mapa.add_marker(circle)\n",
    "    image = mapa.render()\n",
    "    image.save('./map.png')"
   ]
  },
  {
   "cell_type": "code",
   "execution_count": 225,
   "metadata": {},
   "outputs": [],
   "source": [
    "plotpop(coordinates['Barcelona, es; 56'][0], coordinates['Barcelona, es; 56'][1], 1000)"
   ]
  },
  {
   "cell_type": "code",
   "execution_count": 277,
   "metadata": {},
   "outputs": [],
   "source": [
    "def get_most_similar(name):\n",
    "    max_sim = -1\n",
    "    argmax = None\n",
    "    for city in G.nodes:\n",
    "        ratio = fuzz.ratio(city.split(';')[0], name)\n",
    "        if ratio > max_sim:\n",
    "            max_sim = ratio\n",
    "            argmax = city\n",
    "    return argmax\n",
    "\n",
    "def route(src, dst):\n",
    "    real_src = get_most_similar(src)\n",
    "    real_dst = get_most_similar(dst)\n",
    "    \n",
    "    path = nx.algorithms.shortest_paths.generic.shortest_path(\n",
    "        G,\n",
    "        source=real_src,\n",
    "        target=real_dst,\n",
    "        weight='weight'\n",
    "    )\n",
    "    \n",
    "    mapa = StaticMap(400, 400)\n",
    "    for cities in zip(['']+path, path):\n",
    "        rev_coords_1 = tuple(reversed(coordinates[cities[1]]))\n",
    "        circle = CircleMarker(rev_coords_1, 'red', 4)\n",
    "        mapa.add_marker(circle)\n",
    "        if '' in cities:\n",
    "            continue\n",
    "        rev_coords_0 = tuple(reversed(coordinates[cities[0]]))\n",
    "        mapa.add_line(Line((rev_coords_0, rev_coords_1), 'blue', 3))\n",
    "    \n",
    "    image = mapa.render()\n",
    "    image.save('./map.png')"
   ]
  },
  {
   "cell_type": "code",
   "execution_count": 278,
   "metadata": {},
   "outputs": [],
   "source": [
    "route('Barcelona, es', 'Zuric, ch; 25')"
   ]
  },
  {
   "cell_type": "markdown",
   "metadata": {},
   "source": [
    "## Telegram"
   ]
  },
  {
   "cell_type": "code",
   "execution_count": 280,
   "metadata": {},
   "outputs": [
    {
     "data": {
      "text/plain": [
       "<queue.Queue at 0x158e36400>"
      ]
     },
     "execution_count": 280,
     "metadata": {},
     "output_type": "execute_result"
    }
   ],
   "source": [
    "def start(bot, update):\n",
    "    bot.send_message(chat_id=update.message.chat_id, text=\"Hola! Soc un bot bàsic.\")\n",
    "\n",
    "# declara una constant amb el access token que llegeix de token.txt\n",
    "TOKEN = open('token.txt').read().strip()\n",
    "\n",
    "# crea objectes per treballar amb Telegram\n",
    "updater = Updater(token=TOKEN)\n",
    "dispatcher = updater.dispatcher\n",
    "\n",
    "# indica que quan el bot rebi la comanda /start s'executi la funció start\n",
    "dispatcher.add_handler(CommandHandler('start', start))\n",
    "\n",
    "# engega el bot\n",
    "updater.start_polling()"
   ]
  },
  {
   "cell_type": "code",
   "execution_count": 75,
   "metadata": {},
   "outputs": [],
   "source": [
    "import re"
   ]
  },
  {
   "cell_type": "code",
   "execution_count": 85,
   "metadata": {},
   "outputs": [
    {
     "name": "stdout",
     "output_type": "stream",
     "text": [
      "A\n"
     ]
    }
   ],
   "source": [
    "if re.search(r'^\\[(\\-|)[0-9]+(\\.|)[0-9]+ (\\-|)[0-9]+(\\.|)[0-9]+\\]$', '[2.2 -3.2]'):\n",
    "    print('A')"
   ]
  },
  {
   "cell_type": "code",
   "execution_count": 47,
   "metadata": {},
   "outputs": [
    {
     "data": {
      "text/plain": [
       "71"
      ]
     },
     "execution_count": 47,
     "metadata": {},
     "output_type": "execute_result"
    }
   ],
   "source": [
    "fuzz.ratio('Barcelona', 'Barna')"
   ]
  },
  {
   "cell_type": "code",
   "execution_count": 62,
   "metadata": {},
   "outputs": [],
   "source": [
    "def parse_plot_args(args):\n",
    "    '''\n",
    "    Parses args of functions plotgraph and plotpop\n",
    "    '''\n",
    "    if len(args) != 2:\n",
    "        bot.send_message(\n",
    "            chat_id=update.message.chat_id,\n",
    "            text=c.PLOTGRAPH_USAGE_ARGS\n",
    "        )\n",
    "        return None\n",
    "\n",
    "    dist = args[0]\n",
    "    if not dist.isdigit():\n",
    "        bot.send_message(\n",
    "            chat_id=update.message.chat_id,\n",
    "            text=c.PLOTGRAPH_DIST_FORMAT\n",
    "        )\n",
    "        return None\n",
    "\n",
    "    if re.search(c.LON_LAT_REGEX, args[1]):\n",
    "        lat_lon = args[1].replace('[', '').replace(']', '').split(',')\n",
    "        lat = lat_lon[0]\n",
    "        lon = lat_lon[1]\n",
    "\n",
    "        return dist, lat, lon\n",
    "\n",
    "    bot.send_message(\n",
    "        chat_id=update.message.chat_id,\n",
    "        text=c.PLOTGRAPH_LON_LAT_FORMAT\n",
    "    )\n",
    "    return None"
   ]
  },
  {
   "cell_type": "code",
   "execution_count": 65,
   "metadata": {},
   "outputs": [
    {
     "data": {
      "text/plain": [
       "('300', '41.3887901', '2.1589899')"
      ]
     },
     "execution_count": 65,
     "metadata": {},
     "output_type": "execute_result"
    }
   ],
   "source": [
    "parse_plot_args(['300', '[41.3887901,2.1589899]'])"
   ]
  },
  {
   "cell_type": "code",
   "execution_count": 64,
   "metadata": {},
   "outputs": [],
   "source": [
    "import constants as c"
   ]
  },
  {
   "cell_type": "code",
   "execution_count": 67,
   "metadata": {},
   "outputs": [],
   "source": [
    "from io import BytesIO"
   ]
  },
  {
   "cell_type": "code",
   "execution_count": 1,
   "metadata": {},
   "outputs": [
    {
     "name": "stderr",
     "output_type": "stream",
     "text": [
      "/Users/roger.romero/Desktop/Uni/FIB/LP/PracticaPython/practica/lib/python3.7/site-packages/fuzzywuzzy/fuzz.py:11: UserWarning: Using slow pure-python SequenceMatcher. Install python-Levenshtein to remove this warning\n",
      "  warnings.warn('Using slow pure-python SequenceMatcher. Install python-Levenshtein to remove this warning')\n"
     ]
    }
   ],
   "source": [
    "from graph_handler import Graph"
   ]
  },
  {
   "cell_type": "code",
   "execution_count": 3,
   "metadata": {},
   "outputs": [
    {
     "name": "stdout",
     "output_type": "stream",
     "text": [
      "Downloading data\n",
      "Processing data\n",
      "Read 3173959 lines\n",
      "Graph created with 3527 nodes and 48159 edges!             Start asking me!\n"
     ]
    }
   ],
   "source": [
    "G = Graph()"
   ]
  },
  {
   "cell_type": "code",
   "execution_count": 4,
   "metadata": {},
   "outputs": [],
   "source": [
    "G.plotgraph(41.3887901, 2.1589899, 300)"
   ]
  },
  {
   "cell_type": "markdown",
   "metadata": {},
   "source": [
    "## Decorators"
   ]
  },
  {
   "cell_type": "code",
   "execution_count": 9,
   "metadata": {},
   "outputs": [],
   "source": [
    "# Global variables\n",
    "G = None\n",
    "\n",
    "\n",
    "# Decorator so start has to be the first function\n",
    "def start_first(func):\n",
    "    def wrapper(a, b):\n",
    "        if not G:\n",
    "            print('Not graph')\n",
    "            return\n",
    "        func(a, b)\n",
    "    return wrapper"
   ]
  },
  {
   "cell_type": "code",
   "execution_count": 23,
   "metadata": {},
   "outputs": [],
   "source": [
    "@u.start_first\n",
    "def hola(a, b):\n",
    "    print(a, b)"
   ]
  },
  {
   "cell_type": "code",
   "execution_count": 24,
   "metadata": {},
   "outputs": [
    {
     "ename": "NameError",
     "evalue": "name 'G' is not defined",
     "output_type": "error",
     "traceback": [
      "\u001b[0;31m---------------------------------------------------------------------------\u001b[0m",
      "\u001b[0;31mNameError\u001b[0m                                 Traceback (most recent call last)",
      "\u001b[0;32m<ipython-input-24-325bc1792ddc>\u001b[0m in \u001b[0;36m<module>\u001b[0;34m\u001b[0m\n\u001b[0;32m----> 1\u001b[0;31m \u001b[0mhola\u001b[0m\u001b[0;34m(\u001b[0m\u001b[0;36m1\u001b[0m\u001b[0;34m,\u001b[0m \u001b[0;36m2\u001b[0m\u001b[0;34m)\u001b[0m\u001b[0;34m\u001b[0m\u001b[0;34m\u001b[0m\u001b[0m\n\u001b[0m",
      "\u001b[0;32m~/Desktop/Uni/FIB/LP/PracticaPython/utilities.py\u001b[0m in \u001b[0;36mwrapper\u001b[0;34m(bot, update, args)\u001b[0m\n\u001b[1;32m      2\u001b[0m \u001b[0;32mdef\u001b[0m \u001b[0mstart_first\u001b[0m\u001b[0;34m(\u001b[0m\u001b[0mfunc\u001b[0m\u001b[0;34m)\u001b[0m\u001b[0;34m:\u001b[0m\u001b[0;34m\u001b[0m\u001b[0;34m\u001b[0m\u001b[0m\n\u001b[1;32m      3\u001b[0m     \u001b[0;32mdef\u001b[0m \u001b[0mwrapper\u001b[0m\u001b[0;34m(\u001b[0m\u001b[0mbot\u001b[0m\u001b[0;34m,\u001b[0m \u001b[0mupdate\u001b[0m\u001b[0;34m,\u001b[0m \u001b[0margs\u001b[0m\u001b[0;34m=\u001b[0m\u001b[0;32mNone\u001b[0m\u001b[0;34m)\u001b[0m\u001b[0;34m:\u001b[0m\u001b[0;34m\u001b[0m\u001b[0;34m\u001b[0m\u001b[0m\n\u001b[0;32m----> 4\u001b[0;31m         \u001b[0;32mif\u001b[0m \u001b[0;32mnot\u001b[0m \u001b[0mG\u001b[0m\u001b[0;34m:\u001b[0m\u001b[0;34m\u001b[0m\u001b[0;34m\u001b[0m\u001b[0m\n\u001b[0m\u001b[1;32m      5\u001b[0m             bot.send_message(\n\u001b[1;32m      6\u001b[0m                 \u001b[0mchat_id\u001b[0m\u001b[0;34m=\u001b[0m\u001b[0mupdate\u001b[0m\u001b[0;34m.\u001b[0m\u001b[0mmessage\u001b[0m\u001b[0;34m.\u001b[0m\u001b[0mchat_id\u001b[0m\u001b[0;34m,\u001b[0m\u001b[0;34m\u001b[0m\u001b[0;34m\u001b[0m\u001b[0m\n",
      "\u001b[0;31mNameError\u001b[0m: name 'G' is not defined"
     ]
    }
   ],
   "source": [
    "hola(1, 2)"
   ]
  },
  {
   "cell_type": "code",
   "execution_count": 12,
   "metadata": {},
   "outputs": [
    {
     "name": "stdout",
     "output_type": "stream",
     "text": [
      "1 2\n"
     ]
    }
   ],
   "source": [
    "G = True\n",
    "hola(1, 2)"
   ]
  },
  {
   "cell_type": "code",
   "execution_count": 13,
   "metadata": {},
   "outputs": [],
   "source": [
    "l = ['\"Barcelona,', 'es\"', '\"Zurich,', 'ch\"']"
   ]
  },
  {
   "cell_type": "code",
   "execution_count": 14,
   "metadata": {},
   "outputs": [
    {
     "data": {
      "text/plain": [
       "4"
      ]
     },
     "execution_count": 14,
     "metadata": {},
     "output_type": "execute_result"
    }
   ],
   "source": [
    "len(l)"
   ]
  },
  {
   "cell_type": "code",
   "execution_count": 16,
   "metadata": {},
   "outputs": [],
   "source": [
    "r = ' '.join(l)"
   ]
  },
  {
   "cell_type": "code",
   "execution_count": 21,
   "metadata": {},
   "outputs": [
    {
     "data": {
      "text/plain": [
       "'Zurich, ch'"
      ]
     },
     "execution_count": 21,
     "metadata": {},
     "output_type": "execute_result"
    }
   ],
   "source": [
    "r.split('\"')[3]"
   ]
  },
  {
   "cell_type": "code",
   "execution_count": 19,
   "metadata": {},
   "outputs": [
    {
     "data": {
      "text/plain": [
       "5"
      ]
     },
     "execution_count": 19,
     "metadata": {},
     "output_type": "execute_result"
    }
   ],
   "source": [
    "len(r.split('\"'))"
   ]
  },
  {
   "cell_type": "code",
   "execution_count": 22,
   "metadata": {},
   "outputs": [],
   "source": [
    "import utilities as u"
   ]
  },
  {
   "cell_type": "code",
   "execution_count": 71,
   "metadata": {},
   "outputs": [],
   "source": [
    "def test(a):\n",
    "    b=a"
   ]
  },
  {
   "cell_type": "code",
   "execution_count": 72,
   "metadata": {},
   "outputs": [],
   "source": [
    "c = test(2)"
   ]
  },
  {
   "cell_type": "code",
   "execution_count": 73,
   "metadata": {},
   "outputs": [
    {
     "data": {
      "text/plain": [
       "NoneType"
      ]
     },
     "execution_count": 73,
     "metadata": {},
     "output_type": "execute_result"
    }
   ],
   "source": [
    "type(c)"
   ]
  },
  {
   "cell_type": "markdown",
   "metadata": {},
   "source": [
    "## Better way to do the graph"
   ]
  },
  {
   "cell_type": "code",
   "execution_count": 4,
   "metadata": {},
   "outputs": [],
   "source": [
    "G = nx.Graph()"
   ]
  },
  {
   "cell_type": "code",
   "execution_count": 101,
   "metadata": {},
   "outputs": [],
   "source": [
    "for city in coordinates.keys():\n",
    "    G.add_node(city)"
   ]
  },
  {
   "cell_type": "code",
   "execution_count": 13,
   "metadata": {},
   "outputs": [],
   "source": [
    "G.add_nodes_from(coordinates.keys())"
   ]
  },
  {
   "cell_type": "code",
   "execution_count": 13,
   "metadata": {},
   "outputs": [],
   "source": [
    "from scipy import spatial"
   ]
  },
  {
   "cell_type": "code",
   "execution_count": 17,
   "metadata": {},
   "outputs": [],
   "source": [
    "kdtree = spatial.KDTree(list(coordinate_to_city.keys()))"
   ]
  },
  {
   "cell_type": "code",
   "execution_count": null,
   "metadata": {},
   "outputs": [],
   "source": [
    "pairs = kdtree.query_pairs(r)\n",
    "G.add_edges_from(list(pairs))"
   ]
  },
  {
   "cell_type": "code",
   "execution_count": 102,
   "metadata": {},
   "outputs": [],
   "source": [
    "def get_distance(coordsa, coordsb):\n",
    "    return haversine(coordsa, coordsb)"
   ]
  },
  {
   "cell_type": "code",
   "execution_count": 103,
   "metadata": {},
   "outputs": [],
   "source": [
    "def get_city_distance(citya, cityb):\n",
    "    return get_distance(coordinates[citya], coordinates[cityb])"
   ]
  },
  {
   "cell_type": "code",
   "execution_count": 15,
   "metadata": {},
   "outputs": [
    {
     "ename": "ValueError",
     "evalue": "could not convert string to float: 'Hola'",
     "output_type": "error",
     "traceback": [
      "\u001b[0;31m---------------------------------------------------------------------------\u001b[0m",
      "\u001b[0;31mValueError\u001b[0m                                Traceback (most recent call last)",
      "\u001b[0;32m<ipython-input-15-5defe0eb8efc>\u001b[0m in \u001b[0;36m<module>\u001b[0;34m\u001b[0m\n\u001b[0;32m----> 1\u001b[0;31m \u001b[0mfloat\u001b[0m\u001b[0;34m(\u001b[0m\u001b[0;34m'Hola'\u001b[0m\u001b[0;34m)\u001b[0m\u001b[0;34m\u001b[0m\u001b[0;34m\u001b[0m\u001b[0m\n\u001b[0m",
      "\u001b[0;31mValueError\u001b[0m: could not convert string to float: 'Hola'"
     ]
    }
   ],
   "source": [
    "float('Hola')"
   ]
  },
  {
   "cell_type": "code",
   "execution_count": null,
   "metadata": {},
   "outputs": [],
   "source": []
  }
 ],
 "metadata": {
  "kernelspec": {
   "display_name": "lp",
   "language": "python",
   "name": "lp"
  },
  "language_info": {
   "codemirror_mode": {
    "name": "ipython",
    "version": 3
   },
   "file_extension": ".py",
   "mimetype": "text/x-python",
   "name": "python",
   "nbconvert_exporter": "python",
   "pygments_lexer": "ipython3",
   "version": "3.7.3"
  }
 },
 "nbformat": 4,
 "nbformat_minor": 2
}
